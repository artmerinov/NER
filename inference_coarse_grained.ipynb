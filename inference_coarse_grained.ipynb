{
 "cells": [
  {
   "cell_type": "code",
   "execution_count": 2,
   "metadata": {},
   "outputs": [],
   "source": [
    "import torch\n",
    "from torch.utils.data import DataLoader\n",
    "from tqdm import tqdm\n",
    "from seqeval.metrics import classification_report, precision_score\n",
    "from IPython.display import HTML\n",
    "\n",
    "from model import BiLSTM_CRF\n",
    "from dataset import io2df, io2bio, padding, NERDataset\n",
    "from utils import Config, load_ner_config\n",
    "from visualisation import highlight_entities, plot_classification_report\n",
    "from typing import List, Dict\n",
    "\n",
    "import matplotlib.pyplot as plt\n",
    "%matplotlib inline\n",
    "%config InlineBackend.figure_format='retina'\n",
    "\n",
    "%load_ext autoreload\n",
    "%autoreload 2"
   ]
  },
  {
   "cell_type": "code",
   "execution_count": 3,
   "metadata": {},
   "outputs": [
    {
     "data": {
      "text/plain": [
       "{'TR_PATH': 'data/supervised/train.txt',\n",
       " 'VA_PATH': 'data/supervised/dev.txt',\n",
       " 'TE_PATH': 'data/supervised/test.txt',\n",
       " 'SEQ_LEN': 100,\n",
       " 'BATCH_SIZE': 128,\n",
       " 'LR': 0.0005,\n",
       " 'REG_LAMBDA': 0.001,\n",
       " 'REG_ALPHA': 0.5,\n",
       " 'MAX_GRAD_NORM': 100,\n",
       " 'NUM_EPOCHS': 10,\n",
       " 'EMBED_SIZE': 100,\n",
       " 'HIDDEN_SIZE': 256,\n",
       " 'DROPOUT': 0.5}"
      ]
     },
     "execution_count": 3,
     "metadata": {},
     "output_type": "execute_result"
    }
   ],
   "source": [
    "config = Config('config.yaml')\n",
    "config.__dict__"
   ]
  },
  {
   "cell_type": "code",
   "execution_count": 4,
   "metadata": {},
   "outputs": [
    {
     "name": "stderr",
     "output_type": "stream",
     "text": [
      "100%|██████████| 958765/958765 [00:01<00:00, 785539.35it/s]\n"
     ]
    }
   ],
   "source": [
    "te_titles = io2df(config.TE_PATH)"
   ]
  },
  {
   "cell_type": "code",
   "execution_count": 5,
   "metadata": {},
   "outputs": [],
   "source": [
    "TAG2IDX = load_ner_config('ner_tags/ner_coarse_grained.json')\n",
    "IDX2TAG = {i: t for t, i in TAG2IDX.items()}\n",
    "\n",
    "TKN2IDX = load_ner_config('tokenizers/token2idx.json')\n",
    "IDX2TKN = {i: t for t, i in TKN2IDX.items()}"
   ]
  },
  {
   "cell_type": "code",
   "execution_count": 6,
   "metadata": {},
   "outputs": [],
   "source": [
    "# encode\n",
    "te_titles['tags_ids'] = te_titles['tags_coarse_grained'].transform(lambda x: [TAG2IDX[tag] for tag in x])\n",
    "te_titles['tokens_ids'] = te_titles['tokens'].transform(lambda x: [TKN2IDX[token] if token in TKN2IDX else TKN2IDX['UKN'] for token in x])\n",
    "\n",
    "# padding\n",
    "te_titles['tokens_ids'] = te_titles['tokens_ids'].transform(padding, max_len=config.SEQ_LEN)\n",
    "te_titles['tags_ids'] = te_titles['tags_ids'].transform(padding, max_len=config.SEQ_LEN)"
   ]
  },
  {
   "cell_type": "code",
   "execution_count": 7,
   "metadata": {},
   "outputs": [
    {
     "data": {
      "text/html": [
       "<div>\n",
       "<style scoped>\n",
       "    .dataframe tbody tr th:only-of-type {\n",
       "        vertical-align: middle;\n",
       "    }\n",
       "\n",
       "    .dataframe tbody tr th {\n",
       "        vertical-align: top;\n",
       "    }\n",
       "\n",
       "    .dataframe thead th {\n",
       "        text-align: right;\n",
       "    }\n",
       "</style>\n",
       "<table border=\"1\" class=\"dataframe\">\n",
       "  <thead>\n",
       "    <tr style=\"text-align: right;\">\n",
       "      <th></th>\n",
       "      <th>id</th>\n",
       "      <th>tokens</th>\n",
       "      <th>tags_fine_grained</th>\n",
       "      <th>tags_coarse_grained</th>\n",
       "      <th>tags_ids</th>\n",
       "      <th>tokens_ids</th>\n",
       "    </tr>\n",
       "  </thead>\n",
       "  <tbody>\n",
       "    <tr>\n",
       "      <th>0</th>\n",
       "      <td>0</td>\n",
       "      <td>[In, the, early, 1930s, the, band, moved, to, ...</td>\n",
       "      <td>[O, O, O, O, O, O, O, O, O, building-other, bu...</td>\n",
       "      <td>[O, O, O, O, O, O, O, O, O, building, building...</td>\n",
       "      <td>[1, 1, 1, 1, 1, 1, 1, 1, 1, 3, 3, 1, 1, 3, 3, ...</td>\n",
       "      <td>[25, 2, 166, 2825, 2, 277, 246, 8, 2, 7432, 39...</td>\n",
       "    </tr>\n",
       "    <tr>\n",
       "      <th>1</th>\n",
       "      <td>1</td>\n",
       "      <td>[The, final, season, of, minor, league, play, ...</td>\n",
       "      <td>[O, O, O, O, O, O, O, location-park, location-...</td>\n",
       "      <td>[O, O, O, O, O, O, O, location, location, loca...</td>\n",
       "      <td>[1, 1, 1, 1, 1, 1, 1, 5, 5, 5, 1, 1, 1, 1, 1, ...</td>\n",
       "      <td>[12, 288, 81, 5, 1541, 567, 267, 30529, 782, 1...</td>\n",
       "    </tr>\n",
       "    <tr>\n",
       "      <th>2</th>\n",
       "      <td>2</td>\n",
       "      <td>[They, finished, the, season, 14–19, ,, 9–9, i...</td>\n",
       "      <td>[O, O, O, O, O, O, O, O, event-sportsevent, ev...</td>\n",
       "      <td>[O, O, O, O, O, O, O, O, event, event, O, O, O...</td>\n",
       "      <td>[1, 1, 1, 1, 1, 1, 1, 1, 4, 4, 1, 1, 1, 1, 1, ...</td>\n",
       "      <td>[198, 528, 2, 81, 1, 3, 44681, 7, 22858, 267, ...</td>\n",
       "    </tr>\n",
       "    <tr>\n",
       "      <th>3</th>\n",
       "      <td>3</td>\n",
       "      <td>[The, B-52, pilot, ,, Major, Larry, G., Messin...</td>\n",
       "      <td>[O, product-other, O, O, O, person-other, pers...</td>\n",
       "      <td>[O, product, O, O, O, person, person, person, ...</td>\n",
       "      <td>[1, 9, 1, 1, 1, 8, 8, 8, 1, 1, 1, 1, 0, 0, 0, ...</td>\n",
       "      <td>[12, 15859, 1689, 3, 1122, 3247, 3210, 1, 3, 7...</td>\n",
       "    </tr>\n",
       "    <tr>\n",
       "      <th>4</th>\n",
       "      <td>4</td>\n",
       "      <td>[The, Austro-Hungarian, Navy, built, and, oper...</td>\n",
       "      <td>[O, organization-other, organization-other, O,...</td>\n",
       "      <td>[O, organization, organization, O, O, O, O, O,...</td>\n",
       "      <td>[1, 6, 6, 1, 1, 1, 1, 1, 1, 1, 1, 1, 0, 0, 0, ...</td>\n",
       "      <td>[12, 15069, 675, 178, 6, 445, 50, 2480, 5, 359...</td>\n",
       "    </tr>\n",
       "    <tr>\n",
       "      <th>...</th>\n",
       "      <td>...</td>\n",
       "      <td>...</td>\n",
       "      <td>...</td>\n",
       "      <td>...</td>\n",
       "      <td>...</td>\n",
       "      <td>...</td>\n",
       "    </tr>\n",
       "    <tr>\n",
       "      <th>37643</th>\n",
       "      <td>37643</td>\n",
       "      <td>[The, remaining, 25, were, scrapped, in, 1959, .]</td>\n",
       "      <td>[O, O, O, O, O, O, O, O]</td>\n",
       "      <td>[O, O, O, O, O, O, O, O]</td>\n",
       "      <td>[1, 1, 1, 1, 1, 1, 1, 1, 0, 0, 0, 0, 0, 0, 0, ...</td>\n",
       "      <td>[12, 1448, 453, 30, 9933, 7, 1423, 4, 0, 0, 0,...</td>\n",
       "    </tr>\n",
       "    <tr>\n",
       "      <th>37644</th>\n",
       "      <td>37644</td>\n",
       "      <td>[Lady, Forester, died, in, 1922, .]</td>\n",
       "      <td>[O, person-other, O, O, O, O]</td>\n",
       "      <td>[O, person, O, O, O, O]</td>\n",
       "      <td>[1, 8, 1, 1, 1, 1, 0, 0, 0, 0, 0, 0, 0, 0, 0, ...</td>\n",
       "      <td>[2162, 1, 278, 7, 2376, 4, 0, 0, 0, 0, 0, 0, 0...</td>\n",
       "    </tr>\n",
       "    <tr>\n",
       "      <th>37645</th>\n",
       "      <td>37645</td>\n",
       "      <td>[As, all, aminopenicillins, ,, amoxicillin, ha...</td>\n",
       "      <td>[O, O, other-chemicalthing, O, other-chemicalt...</td>\n",
       "      <td>[O, O, other, O, other, O, O, O, O, other, oth...</td>\n",
       "      <td>[1, 1, 7, 1, 7, 1, 1, 1, 1, 7, 7, 1, 7, 7, 7, ...</td>\n",
       "      <td>[191, 95, 1, 3, 28054, 38, 47, 818, 20, 46629,...</td>\n",
       "    </tr>\n",
       "    <tr>\n",
       "      <th>37646</th>\n",
       "      <td>37646</td>\n",
       "      <td>[The, Storm, Prediction, Center, in, Oklahoma,...</td>\n",
       "      <td>[O, organization-other, organization-other, or...</td>\n",
       "      <td>[O, organization, organization, organization, ...</td>\n",
       "      <td>[1, 6, 6, 6, 1, 5, 1, 1, 1, 1, 1, 1, 1, 1, 1, ...</td>\n",
       "      <td>[12, 4050, 1, 222, 7, 2443, 40, 1282, 2, 4180,...</td>\n",
       "    </tr>\n",
       "    <tr>\n",
       "      <th>37647</th>\n",
       "      <td>37647</td>\n",
       "      <td>[Some, commentators, criticized, Chaffetz, 's,...</td>\n",
       "      <td>[O, O, O, O, O, O, O, O, O, O, O, O, O, O, O, ...</td>\n",
       "      <td>[O, O, O, O, O, O, O, O, O, O, O, O, O, O, O, ...</td>\n",
       "      <td>[1, 1, 1, 1, 1, 1, 1, 1, 1, 1, 1, 1, 1, 1, 1, ...</td>\n",
       "      <td>[649, 16879, 4047, 1, 22, 9729, 1888, 5, 1362,...</td>\n",
       "    </tr>\n",
       "  </tbody>\n",
       "</table>\n",
       "<p>37648 rows × 6 columns</p>\n",
       "</div>"
      ],
      "text/plain": [
       "          id                                             tokens  \\\n",
       "0          0  [In, the, early, 1930s, the, band, moved, to, ...   \n",
       "1          1  [The, final, season, of, minor, league, play, ...   \n",
       "2          2  [They, finished, the, season, 14–19, ,, 9–9, i...   \n",
       "3          3  [The, B-52, pilot, ,, Major, Larry, G., Messin...   \n",
       "4          4  [The, Austro-Hungarian, Navy, built, and, oper...   \n",
       "...      ...                                                ...   \n",
       "37643  37643  [The, remaining, 25, were, scrapped, in, 1959, .]   \n",
       "37644  37644                [Lady, Forester, died, in, 1922, .]   \n",
       "37645  37645  [As, all, aminopenicillins, ,, amoxicillin, ha...   \n",
       "37646  37646  [The, Storm, Prediction, Center, in, Oklahoma,...   \n",
       "37647  37647  [Some, commentators, criticized, Chaffetz, 's,...   \n",
       "\n",
       "                                       tags_fine_grained  \\\n",
       "0      [O, O, O, O, O, O, O, O, O, building-other, bu...   \n",
       "1      [O, O, O, O, O, O, O, location-park, location-...   \n",
       "2      [O, O, O, O, O, O, O, O, event-sportsevent, ev...   \n",
       "3      [O, product-other, O, O, O, person-other, pers...   \n",
       "4      [O, organization-other, organization-other, O,...   \n",
       "...                                                  ...   \n",
       "37643                           [O, O, O, O, O, O, O, O]   \n",
       "37644                      [O, person-other, O, O, O, O]   \n",
       "37645  [O, O, other-chemicalthing, O, other-chemicalt...   \n",
       "37646  [O, organization-other, organization-other, or...   \n",
       "37647  [O, O, O, O, O, O, O, O, O, O, O, O, O, O, O, ...   \n",
       "\n",
       "                                     tags_coarse_grained  \\\n",
       "0      [O, O, O, O, O, O, O, O, O, building, building...   \n",
       "1      [O, O, O, O, O, O, O, location, location, loca...   \n",
       "2      [O, O, O, O, O, O, O, O, event, event, O, O, O...   \n",
       "3      [O, product, O, O, O, person, person, person, ...   \n",
       "4      [O, organization, organization, O, O, O, O, O,...   \n",
       "...                                                  ...   \n",
       "37643                           [O, O, O, O, O, O, O, O]   \n",
       "37644                            [O, person, O, O, O, O]   \n",
       "37645  [O, O, other, O, other, O, O, O, O, other, oth...   \n",
       "37646  [O, organization, organization, organization, ...   \n",
       "37647  [O, O, O, O, O, O, O, O, O, O, O, O, O, O, O, ...   \n",
       "\n",
       "                                                tags_ids  \\\n",
       "0      [1, 1, 1, 1, 1, 1, 1, 1, 1, 3, 3, 1, 1, 3, 3, ...   \n",
       "1      [1, 1, 1, 1, 1, 1, 1, 5, 5, 5, 1, 1, 1, 1, 1, ...   \n",
       "2      [1, 1, 1, 1, 1, 1, 1, 1, 4, 4, 1, 1, 1, 1, 1, ...   \n",
       "3      [1, 9, 1, 1, 1, 8, 8, 8, 1, 1, 1, 1, 0, 0, 0, ...   \n",
       "4      [1, 6, 6, 1, 1, 1, 1, 1, 1, 1, 1, 1, 0, 0, 0, ...   \n",
       "...                                                  ...   \n",
       "37643  [1, 1, 1, 1, 1, 1, 1, 1, 0, 0, 0, 0, 0, 0, 0, ...   \n",
       "37644  [1, 8, 1, 1, 1, 1, 0, 0, 0, 0, 0, 0, 0, 0, 0, ...   \n",
       "37645  [1, 1, 7, 1, 7, 1, 1, 1, 1, 7, 7, 1, 7, 7, 7, ...   \n",
       "37646  [1, 6, 6, 6, 1, 5, 1, 1, 1, 1, 1, 1, 1, 1, 1, ...   \n",
       "37647  [1, 1, 1, 1, 1, 1, 1, 1, 1, 1, 1, 1, 1, 1, 1, ...   \n",
       "\n",
       "                                              tokens_ids  \n",
       "0      [25, 2, 166, 2825, 2, 277, 246, 8, 2, 7432, 39...  \n",
       "1      [12, 288, 81, 5, 1541, 567, 267, 30529, 782, 1...  \n",
       "2      [198, 528, 2, 81, 1, 3, 44681, 7, 22858, 267, ...  \n",
       "3      [12, 15859, 1689, 3, 1122, 3247, 3210, 1, 3, 7...  \n",
       "4      [12, 15069, 675, 178, 6, 445, 50, 2480, 5, 359...  \n",
       "...                                                  ...  \n",
       "37643  [12, 1448, 453, 30, 9933, 7, 1423, 4, 0, 0, 0,...  \n",
       "37644  [2162, 1, 278, 7, 2376, 4, 0, 0, 0, 0, 0, 0, 0...  \n",
       "37645  [191, 95, 1, 3, 28054, 38, 47, 818, 20, 46629,...  \n",
       "37646  [12, 4050, 1, 222, 7, 2443, 40, 1282, 2, 4180,...  \n",
       "37647  [649, 16879, 4047, 1, 22, 9729, 1888, 5, 1362,...  \n",
       "\n",
       "[37648 rows x 6 columns]"
      ]
     },
     "execution_count": 7,
     "metadata": {},
     "output_type": "execute_result"
    }
   ],
   "source": [
    "te_titles"
   ]
  },
  {
   "cell_type": "code",
   "execution_count": 8,
   "metadata": {},
   "outputs": [
    {
     "data": {
      "text/plain": [
       "{'tokens_ids': tensor([ 3474,    48,    96,   115,   158,     3,    29,  1209,     9,  3190,\n",
       "             5,   557,     7, 17140,     6,  2211,    34,     8,     2,   324,\n",
       "          1231,   313,     3, 23582,     1,     3,    16,     2,   284,     5,\n",
       "             9,  1597,     4,     0,     0,     0,     0,     0,     0,     0,\n",
       "             0,     0,     0,     0,     0,     0,     0,     0,     0,     0,\n",
       "             0,     0,     0,     0,     0,     0,     0,     0,     0,     0,\n",
       "             0,     0,     0,     0,     0,     0,     0,     0,     0,     0,\n",
       "             0,     0,     0,     0,     0,     0,     0,     0,     0,     0,\n",
       "             0,     0,     0,     0,     0,     0,     0,     0,     0,     0,\n",
       "             0,     0,     0,     0,     0,     0,     0,     0,     0,     0]),\n",
       " 'tags_ids': tensor([1, 1, 4, 4, 4, 1, 1, 1, 1, 1, 1, 1, 1, 5, 1, 1, 1, 1, 1, 1, 1, 1, 1, 6,\n",
       "         6, 1, 1, 1, 1, 1, 1, 1, 1, 0, 0, 0, 0, 0, 0, 0, 0, 0, 0, 0, 0, 0, 0, 0,\n",
       "         0, 0, 0, 0, 0, 0, 0, 0, 0, 0, 0, 0, 0, 0, 0, 0, 0, 0, 0, 0, 0, 0, 0, 0,\n",
       "         0, 0, 0, 0, 0, 0, 0, 0, 0, 0, 0, 0, 0, 0, 0, 0, 0, 0, 0, 0, 0, 0, 0, 0,\n",
       "         0, 0, 0, 0])}"
      ]
     },
     "execution_count": 8,
     "metadata": {},
     "output_type": "execute_result"
    }
   ],
   "source": [
    "te_dataset = NERDataset(te_titles)\n",
    "te_dataloader = DataLoader(dataset=te_dataset, batch_size=config.BATCH_SIZE, shuffle=False, num_workers=4)\n",
    "\n",
    "te_dataset.__getitem__(123)"
   ]
  },
  {
   "cell_type": "code",
   "execution_count": 9,
   "metadata": {},
   "outputs": [
    {
     "name": "stdout",
     "output_type": "stream",
     "text": [
      "token_embedding.weight         initialized w with Xavier            parameters #: 5000200\n",
      "lstm.weight_ih_l0              initialized w with Xavier            parameters #: 51200\n",
      "lstm.weight_hh_l0              initialized w with Xavier            parameters #: 65536\n",
      "lstm.bias_ih_l0                initialized b with zero              parameters #: 512\n",
      "lstm.bias_hh_l0                initialized b with zero              parameters #: 512\n",
      "lstm.weight_ih_l0_reverse      initialized w with Xavier            parameters #: 51200\n",
      "lstm.weight_hh_l0_reverse      initialized w with Xavier            parameters #: 65536\n",
      "lstm.bias_ih_l0_reverse        initialized b with zero              parameters #: 512\n",
      "lstm.bias_hh_l0_reverse        initialized b with zero              parameters #: 512\n",
      "fc.weight                      initialized w with Xavier            parameters #: 2560\n",
      "fc.bias                        initialized b with zero              parameters #: 10\n",
      "crf.start_transitions          initialized b with zero              parameters #: 10\n",
      "crf.end_transitions            initialized b with zero              parameters #: 10\n",
      "crf.transitions                initialized w with Xavier            parameters #: 100\n"
     ]
    }
   ],
   "source": [
    "device = torch.device(\"cuda\") if torch.cuda.is_available() else torch.device(\"cpu\")\n",
    "\n",
    "model = BiLSTM_CRF(\n",
    "    embed_size     = config.EMBED_SIZE,\n",
    "    hidden_size    = config.HIDDEN_SIZE, \n",
    "    dropout        = config.DROPOUT,\n",
    "    token_voc_size = len(TKN2IDX), \n",
    "    tag_voc_size   = len(TAG2IDX),\n",
    ").to(device)"
   ]
  },
  {
   "cell_type": "code",
   "execution_count": 10,
   "metadata": {},
   "outputs": [
    {
     "data": {
      "text/plain": [
       "BiLSTM_CRF(\n",
       "  (token_embedding): Embedding(50002, 100)\n",
       "  (dropout): Dropout(p=0.5, inplace=False)\n",
       "  (lstm): LSTM(100, 128, batch_first=True, bidirectional=True)\n",
       "  (fc): Linear(in_features=256, out_features=10, bias=True)\n",
       "  (crf): CRF(num_tags=10)\n",
       ")"
      ]
     },
     "execution_count": 10,
     "metadata": {},
     "output_type": "execute_result"
    }
   ],
   "source": [
    "state_dict = torch.load(f='artefacts/coarse_grained/weights/model_epoch_04.pt', map_location=torch.device(device))\n",
    "model.load_state_dict(state_dict=state_dict)\n",
    "model.eval()"
   ]
  },
  {
   "cell_type": "code",
   "execution_count": 11,
   "metadata": {},
   "outputs": [
    {
     "name": "stderr",
     "output_type": "stream",
     "text": [
      "  0%|          | 0/295 [00:00<?, ?it/s]"
     ]
    },
    {
     "name": "stderr",
     "output_type": "stream",
     "text": [
      "/Users/artemmerinov/PycharmProjects/NER/.venv/lib/python3.10/site-packages/torchcrf/__init__.py:305: UserWarning: where received a uint8 condition tensor. This behavior is deprecated and will be removed in a future version of PyTorch. Use a boolean condition instead. (Triggered internally at /Users/runner/work/pytorch/pytorch/pytorch/aten/src/ATen/native/TensorCompare.cpp:519.)\n",
      "  score = torch.where(mask[i].unsqueeze(1), next_score, score)\n",
      "100%|██████████| 295/295 [01:12<00:00,  4.07it/s]\n"
     ]
    },
    {
     "name": "stdout",
     "output_type": "stream",
     "text": [
      "              precision    recall  f1-score   support\n",
      "\n",
      "         art       0.69      0.65      0.67      4059\n",
      "    building       0.60      0.60      0.60      5004\n",
      "       event       0.61      0.52      0.56      4101\n",
      "    location       0.73      0.80      0.77     27213\n",
      "organization       0.63      0.58      0.60     19068\n",
      "       other       0.65      0.39      0.49      9557\n",
      "      person       0.80      0.80      0.80     21500\n",
      "     product       0.55      0.45      0.49      6228\n",
      "\n",
      "   micro avg       0.70      0.67      0.68     96730\n",
      "   macro avg       0.66      0.60      0.62     96730\n",
      "weighted avg       0.69      0.67      0.68     96730\n",
      "\n"
     ]
    }
   ],
   "source": [
    "batch_trues = []\n",
    "batch_preds = []\n",
    "\n",
    "for va_batch in tqdm(te_dataloader, total=te_dataloader.__len__()):\n",
    "    te_xs = va_batch['tokens_ids'].to(device)\n",
    "    te_ys = va_batch['tags_ids'].to(device)\n",
    "\n",
    "    te_emission_scores = model(te_xs).to(device)\n",
    "    te_preds = torch.tensor(model.decode(te_emission_scores))\n",
    "\n",
    "    mask = (te_ys > 0).bool()\n",
    "    \n",
    "    for row_id, true in enumerate(te_ys):\n",
    "        # do not count padding\n",
    "        true_tags = true[mask[row_id]]\n",
    "        # idx2tag\n",
    "        true_tags = [IDX2TAG[idx] for idx in true_tags.tolist()]\n",
    "        # convert to the format expected by seqeval\n",
    "        true_tags = io2bio(true_tags)\n",
    "        batch_trues.append(true_tags)\n",
    "\n",
    "    for row_id, pred in enumerate(te_preds):\n",
    "        # do not count padding\n",
    "        pred_tags = pred[mask[row_id]]\n",
    "        # idx2tag\n",
    "        pred_tags = [IDX2TAG[idx] for idx in pred_tags.tolist()]\n",
    "        # convert to the format expected by seqeval\n",
    "        pred_tags = io2bio(pred_tags)\n",
    "        batch_preds.append(pred_tags)\n",
    "\n",
    "report = classification_report(y_true=batch_trues, y_pred=batch_preds, zero_division=0)\n",
    "print(report)"
   ]
  },
  {
   "cell_type": "code",
   "execution_count": 12,
   "metadata": {},
   "outputs": [
    {
     "data": {
      "image/png": "[encoded data removed]",
      "text/plain": [
       "<Figure size 1400x400 with 1 Axes>"
      ]
     },
     "metadata": {
      "image/png": {
       "height": 447,
       "width": 1156
      }
     },
     "output_type": "display_data"
    }
   ],
   "source": [
    "plot_classification_report(\n",
    "    tag_names=list(TAG2IDX.keys())[2:],\n",
    "    tag_scores=precision_score(y_true=batch_trues, y_pred=batch_preds, average=None)\n",
    ")"
   ]
  },
  {
   "cell_type": "markdown",
   "metadata": {},
   "source": [
    "# Demo"
   ]
  },
  {
   "cell_type": "code",
   "execution_count": 13,
   "metadata": {},
   "outputs": [],
   "source": [
    "def predict_ner_for_sentence(sentence: str, token2idx: Dict[str, int] = TKN2IDX) -> List[str]:\n",
    "\n",
    "    input_tokens = [token2idx[token] if token in token2idx else token2idx['UKN'] for token in sentence.split(' ')]\n",
    "    input_tokens = padding(input_tokens, max_len=config.SEQ_LEN)\n",
    "    input_tokens = torch.tensor(input_tokens)\n",
    "    mask = (input_tokens > 0).bool()\n",
    "\n",
    "    emission_scores = model(input_tokens.unsqueeze(0))\n",
    "    preds = torch.tensor(model.decode(emission_scores)).squeeze()\n",
    "    preds = [IDX2TAG[idx] for idx in preds[mask].tolist()]\n",
    "    preds = io2bio(preds)\n",
    "\n",
    "    return preds"
   ]
  },
  {
   "cell_type": "code",
   "execution_count": 14,
   "metadata": {},
   "outputs": [],
   "source": [
    "sentence = \"The Mona Lisa is located in Paris and was painted by Leonardo da Vinci.\""
   ]
  },
  {
   "cell_type": "code",
   "execution_count": 15,
   "metadata": {},
   "outputs": [
    {
     "data": {
      "text/html": [
       "<div style='font-size:18px'>The <span style='color:#1f77b4'>Mona Lisa </span> <span style='color:grey'>(art)</span> is located in <span style='color:#d62728'>Paris </span> <span style='color:grey'>(location)</span> and was painted by <span style='color:#e377c2'>Leonardo da </span> <span style='color:grey'>(person)</span> Vinci. </div>"
      ],
      "text/plain": [
       "<IPython.core.display.HTML object>"
      ]
     },
     "execution_count": 15,
     "metadata": {},
     "output_type": "execute_result"
    }
   ],
   "source": [
    "highlighted_text = highlight_entities(\n",
    "    tokens=sentence.split(' '), \n",
    "    ner_tags=predict_ner_for_sentence(sentence=sentence), \n",
    "    font_size=18\n",
    ")\n",
    "HTML(highlighted_text)"
   ]
  },
  {
   "cell_type": "code",
   "execution_count": null,
   "metadata": {},
   "outputs": [],
   "source": []
  },
  {
   "cell_type": "code",
   "execution_count": null,
   "metadata": {},
   "outputs": [],
   "source": []
  }
 ],
 "metadata": {
  "kernelspec": {
   "display_name": ".venv",
   "language": "python",
   "name": "python3"
  },
  "language_info": {
   "codemirror_mode": {
    "name": "ipython",
    "version": 3
   },
   "file_extension": ".py",
   "mimetype": "text/x-python",
   "name": "python",
   "nbconvert_exporter": "python",
   "pygments_lexer": "ipython3",
   "version": "3.10.10"
  }
 },
 "nbformat": 4,
 "nbformat_minor": 2
}
